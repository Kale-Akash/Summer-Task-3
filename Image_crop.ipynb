{
 "cells": [
  {
   "cell_type": "code",
   "execution_count": 1,
   "id": "6b803bea",
   "metadata": {},
   "outputs": [],
   "source": [
    "import cv2\n",
    "import numpy"
   ]
  },
  {
   "cell_type": "code",
   "execution_count": 2,
   "id": "174782a5",
   "metadata": {},
   "outputs": [],
   "source": [
    "# Creating Custom Image\n",
    "create_image = numpy.zeros([400, 400, 3])\n",
    "create_image[: , :] = (0,0,0)\n",
    "\n",
    "create_image[20:380, 20:380] = (0,0,255)\n",
    "create_image[70:200, 50:240] = (0,255,0)\n",
    "create_image[100:250, 100:190] = (255,0,0)\n",
    "\n",
    "cv2.imshow(\"Image\", create_image)\n",
    "cv2.waitKey()\n",
    "cv2.destroyAllWindows()"
   ]
  },
  {
   "cell_type": "code",
   "execution_count": 3,
   "id": "9e737ffd",
   "metadata": {},
   "outputs": [],
   "source": [
    "# Taking Images using open-cv\n",
    "Iron_man = cv2.imread('iron man.png')\n",
    "Captain = cv2.imread('captain.png')\n",
    "\n",
    "# Display Iron Man and Captain Image\n",
    "cv2.imshow('Iron Man', Iron_man)\n",
    "cv2.waitKey()\n",
    "cv2.destroyAllWindows()\n",
    "\n",
    "cv2.imshow('Captain', Captain)\n",
    "cv2.waitKey()\n",
    "cv2.destroyAllWindows()"
   ]
  },
  {
   "cell_type": "code",
   "execution_count": 4,
   "id": "20c5c0c9",
   "metadata": {},
   "outputs": [],
   "source": [
    "# Crop Iron Man Image\n",
    "crop_iron_man = Iron_man[:120, 120:-80]\n",
    "cv2.imshow('Crop iron man', crop_iron_man)\n",
    "cv2.waitKey()\n",
    "cv2.destroyAllWindows()\n",
    "\n",
    "# Crop Captain Image\n",
    "crop_captain = Captain[:120, 110:-100]\n",
    "cv2.imshow('Crop captain', crop_captain)\n",
    "cv2.waitKey()\n",
    "cv2.destroyAllWindows()"
   ]
  },
  {
   "cell_type": "code",
   "execution_count": null,
   "id": "f6a283e8",
   "metadata": {},
   "outputs": [],
   "source": [
    "# Adding both images togather\n",
    "collage = numpy.hstack((Iron_man, Captain))\n",
    "cv2.imshow('Collage', collage)\n",
    "cv2.waitKey()\n",
    "cv2.destroyAllWindows()"
   ]
  }
 ],
 "metadata": {
  "kernelspec": {
   "display_name": "Python 3",
   "language": "python",
   "name": "python3"
  },
  "language_info": {
   "codemirror_mode": {
    "name": "ipython",
    "version": 3
   },
   "file_extension": ".py",
   "mimetype": "text/x-python",
   "name": "python",
   "nbconvert_exporter": "python",
   "pygments_lexer": "ipython3",
   "version": "3.8.8"
  }
 },
 "nbformat": 4,
 "nbformat_minor": 5
}
